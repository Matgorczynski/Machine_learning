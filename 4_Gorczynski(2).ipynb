{
 "cells": [
  {
   "cell_type": "markdown",
   "id": "fda99264",
   "metadata": {},
   "source": [
    "# Regresja liniowa wielu zmiennych"
   ]
  },
  {
   "cell_type": "markdown",
   "id": "fbb23a78",
   "metadata": {},
   "source": [
    "Stwórz model regresji liniowej dla cen mieszkań w Poznaniu. Zestaw danych to 5000 ogłoszeń z serwisu gratka.pl.\n",
    "Miarą błędu na danych testowych niech będzie średnia kwadratowa błędu (Mean Squared Error, RMSE) dla cen mieszkań.\n",
    "Plik gratkapl.csv zawiera dane, na których należy zbudować model regresyjny. Pierwszy wiersz w pliku to nagłówek zawierający opisy kolumn:\n",
    "Id - numer porządkowy oferty\n",
    "Expected - cena mieszkania\n",
    "Rooms - liczba pokojów\n",
    "SqrMeters - metraż mieszkania w m2\n",
    "Floor - piętro\n",
    "Location - dzielnica lub adres w Poznaniu\n",
    "Description - fragment opisu mieszkania\n",
    "\n",
    "Podziel dane źródłowe na dwa zbiory:\n",
    "zbiór uczący, zawierający 4000 przykładów\n",
    "zbiór testowy, zawierajacy 1000 przykładów\n",
    "Pamiętaj, że dane są „surowe”, więc mogą zawierać obserwacje odstające (zob. wykład 5) – dobrze by było je usunąć przed przystąpieniem do budowy modelu.\n",
    "Napisz algorytm, który przewidzi cenę mieszkania na podstawie trzech spośród powyższych cech (liczba pokojów, metraż, piętro) – użyj w tym celu regresji liniowej wielu zmiennych. Wytrenuj algorytm na danych ze zbioru uczącego.\n",
    "Przetestuj algorytm na danych ze zbioru testowego, obliczając błąd średniokwadratowy (MSE) między cenami mieszkań ze zbioru testowego a cenami mieszkań obliczonymi na podstawie danych ze zbioru testowego.\n",
    "Oprócz oczywistych cech numerycznych jak metraż, cechy mogą być symbolicznymi cechami opisującymi występowanie wyrazów lub kombinacjami kilku cech. Zaprojektuj w ten sposób co najmniej trzy nowe cechy i wykorzystaj je do budowy modelu regresji liniowej wielu zmiennych w połączeniu z cechami, których użyłeś w części podstawowej tego zadania.\n",
    "Porównaj uzyskany błąd średniokwadratowy na zbiorze testowym z błędem obliczonym w części podstawowej tego zadania. Wykorzystaj gotowy model z pakietu scikit-learn."
   ]
  },
  {
   "cell_type": "markdown",
   "id": "1c2b4eac",
   "metadata": {},
   "source": [
    "## Importy"
   ]
  },
  {
   "cell_type": "code",
   "execution_count": 13,
   "id": "c8f644a1",
   "metadata": {},
   "outputs": [],
   "source": [
    "from sklearn import preprocessing \n",
    "from sklearn.linear_model import LinearRegression\n",
    "from sklearn.metrics import mean_squared_error\n",
    "import numpy as np\n",
    "import pandas as pd\n",
    "from scipy import stats\n",
    "\n",
    "df_raw=pd.read_csv(\"gratkapl.csv\")\n",
    "df=df_raw"
   ]
  },
  {
   "cell_type": "markdown",
   "id": "95f2dd7b",
   "metadata": {},
   "source": [
    "## Zapoznanie danych"
   ]
  },
  {
   "cell_type": "code",
   "execution_count": 14,
   "id": "8f658731",
   "metadata": {
    "scrolled": true
   },
   "outputs": [
    {
     "name": "stdout",
     "output_type": "stream",
     "text": [
      "<class 'pandas.core.frame.DataFrame'>\n",
      "RangeIndex: 5000 entries, 0 to 4999\n",
      "Data columns (total 7 columns):\n",
      " #   Column       Non-Null Count  Dtype  \n",
      "---  ------       --------------  -----  \n",
      " 0   Id           5000 non-null   int64  \n",
      " 1   Expected     5000 non-null   int64  \n",
      " 2   Rooms        5000 non-null   int64  \n",
      " 3   SqrMeters    5000 non-null   float64\n",
      " 4   Floor        5000 non-null   int64  \n",
      " 5   Location     5000 non-null   object \n",
      " 6   Description  5000 non-null   object \n",
      "dtypes: float64(1), int64(4), object(2)\n",
      "memory usage: 273.6+ KB\n"
     ]
    }
   ],
   "source": [
    "df_raw.info()"
   ]
  },
  {
   "cell_type": "code",
   "execution_count": 15,
   "id": "bad995f6",
   "metadata": {},
   "outputs": [
    {
     "data": {
      "text/plain": [
       "971            1\n",
       "4528        4000\n",
       "1175       68000\n",
       "4889       79000\n",
       "470        85000\n",
       "          ...   \n",
       "3620     3740000\n",
       "4878    29979840\n",
       "1173    29979840\n",
       "1314    30542880\n",
       "745     36378404\n",
       "Name: Expected, Length: 5000, dtype: int64"
      ]
     },
     "execution_count": 15,
     "metadata": {},
     "output_type": "execute_result"
    }
   ],
   "source": [
    "df['Expected'].sort_values()"
   ]
  },
  {
   "cell_type": "code",
   "execution_count": 5,
   "id": "917562a5",
   "metadata": {},
   "outputs": [
    {
     "data": {
      "text/plain": [
       "4999     1\n",
       "3551     1\n",
       "493      1\n",
       "4216     1\n",
       "2900     1\n",
       "        ..\n",
       "3786     6\n",
       "2099     6\n",
       "2289     6\n",
       "4058     7\n",
       "3845    10\n",
       "Name: Rooms, Length: 5000, dtype: int64"
      ]
     },
     "execution_count": 5,
     "metadata": {},
     "output_type": "execute_result"
    }
   ],
   "source": [
    "df['Rooms'].sort_values()"
   ]
  },
  {
   "cell_type": "code",
   "execution_count": 6,
   "id": "1b28acb2",
   "metadata": {
    "scrolled": true
   },
   "outputs": [
    {
     "data": {
      "text/plain": [
       "1341     14.37\n",
       "2760     17.92\n",
       "3396     18.00\n",
       "2318     18.00\n",
       "3234     18.00\n",
       "         ...  \n",
       "3629    190.00\n",
       "939     192.40\n",
       "188     193.00\n",
       "3620    219.78\n",
       "1424    257.00\n",
       "Name: SqrMeters, Length: 5000, dtype: float64"
      ]
     },
     "execution_count": 6,
     "metadata": {},
     "output_type": "execute_result"
    }
   ],
   "source": [
    "df['SqrMeters'].sort_values()"
   ]
  },
  {
   "cell_type": "code",
   "execution_count": 7,
   "id": "3fcb1931",
   "metadata": {
    "scrolled": false
   },
   "outputs": [
    {
     "data": {
      "text/plain": [
       "0        1\n",
       "2519     1\n",
       "2524     1\n",
       "2525     1\n",
       "2530     1\n",
       "        ..\n",
       "1687    16\n",
       "3556    16\n",
       "2936    16\n",
       "308     16\n",
       "500     16\n",
       "Name: Floor, Length: 5000, dtype: int64"
      ]
     },
     "execution_count": 7,
     "metadata": {},
     "output_type": "execute_result"
    }
   ],
   "source": [
    "df['Floor'].sort_values()"
   ]
  },
  {
   "cell_type": "markdown",
   "id": "20af5f02",
   "metadata": {},
   "source": [
    "## Preprocessing i model"
   ]
  },
  {
   "cell_type": "code",
   "execution_count": 16,
   "id": "70921e12",
   "metadata": {
    "scrolled": true
   },
   "outputs": [
    {
     "name": "stdout",
     "output_type": "stream",
     "text": [
      "[-0.69554877  0.19193977 -0.32211543 -0.31147314  0.12113514 -0.08950423\n",
      " -0.59464225  0.29291885 -0.11736846 -0.57740091]\n",
      "Błąd średniokwadratowy wynosi  0.16179757359957614\n",
      "Score:  0.40272596267831595\n"
     ]
    }
   ],
   "source": [
    "#usuniecie wartosci odstajacych\n",
    "df_brute=df[(np.abs(stats.zscore(df['Expected'])) < 4)]\n",
    "df_brute['Expected'].sort_values()\n",
    "df=df_brute.drop([971])\n",
    "df=df.drop([4528])\n",
    "df=pd.DataFrame(df[['Expected', 'Rooms', 'SqrMeters', 'Floor']])\n",
    "#skalowanie metoda niewrazliwa na wartosci odstajace\n",
    "r_scaler = preprocessing.RobustScaler().fit(df)\n",
    "df_r_scaled = r_scaler.transform(df)\n",
    "#normalizacja\n",
    "normalizer2=preprocessing.Normalizer().fit(df_r_scaled)\n",
    "dfr_normalized=normalizer2.transform(df_r_scaled)\n",
    "#podzial danych \n",
    "split_point = int(0.8 * len(dfr_normalized))\n",
    "df_train2 = dfr_normalized[:split_point]\n",
    "df_test2 = dfr_normalized[split_point:]\n",
    "#uczenie\n",
    "y_train2 = df_train2[:,0] #dane treningowe\n",
    "x_train2 = df_train2[:,1:]\n",
    "y_test2 = df_test2[:,0] #dane testowe\n",
    "x_test2 = df_test2[:,1:]\n",
    "\n",
    "model2 = LinearRegression() #definicja modelu\n",
    "model2.fit(x_train2, y_train2) #dopasowanie modelu do danych\n",
    "\n",
    "#predykcja wynikow na podstawie opracowanego modelu\n",
    "y_predicted2 = model2.predict(x_test2)\n",
    "print(y_predicted2[:10])\n",
    "#ewaluacja - blad sredniokwadratowy\n",
    "mse2 = mean_squared_error(y_predicted2, y_test2)\n",
    "print(\"Błąd średniokwadratowy wynosi \", mse2)\n",
    "print(\"Score: \",model2.score(x_test2,y_test2))"
   ]
  },
  {
   "cell_type": "markdown",
   "id": "cc9d1673",
   "metadata": {},
   "source": [
    "## Czesc 2"
   ]
  },
  {
   "cell_type": "code",
   "execution_count": 11,
   "id": "d9cc581c",
   "metadata": {},
   "outputs": [
    {
     "name": "stdout",
     "output_type": "stream",
     "text": [
      "[ 0.19145291 -0.33719549 -0.22518117  0.1248904   0.09745053 -0.61960586\n",
      "  0.32463771 -0.10097765 -0.60111697 -0.2159007 ]\n",
      "Błąd średniokwadratowy wynosi  0.08644623838274855\n",
      "Score:  0.4867592659663338\n"
     ]
    }
   ],
   "source": [
    "Dzielnice = ['Antoninek','Zieliniec','Kobypole','Chartowo','Fabianowo','Kotowo','Główna','Głuszyna','Górczyn','Junikowo','Krzesiny','Pokrzywno','Garaszewo','Kwiatowe','Ławica','Ogrody','Naramowice','Sołacz','Rataje','Stare Miasto','Strzeszyn','Świerczewo','Wilda','Winiary','Wola','Żegrze','Jeżyce','Grunwald','Nowe Miasto', 'Piątkowo', 'Wilda', 'Podolany', 'Górczyn', 'Łazarz','Kiekrz'\n",
    "            ,'Strzeszyn','Umultowo','Naramowice','Morasko']\n",
    "Pozytywny_opis = [\"duże\", \"duży\", \"okazja\", \"przestronne\"]\n",
    "Cechy_poprzednie=['Expected','Rooms','SqrMeters','Floor']\n",
    "\n",
    "data=df_raw\n",
    "for i in Dzielnice:\n",
    "    data[i]=data['Location'].str.contains(i, case=False, flags=0, na=None, regex=True) #Dodanie kolumn-dzielnic i okresienie boolowskie czy lokalizacja lezy w danej dzielnicy\n",
    "    data[i]=data[i].apply(lambda x: 1 if x == True else 0) #zamiana typu bool na int\n",
    "for i in Pozytywny_opis:\n",
    "    data[i]=data['Description'].str.contains(i, case=False, flags=0, na=None, regex=True)  #Dodanie kolumn-pozytywne-slowa-z-opisu i okresienie boolowskie czy te pozytywne slowa sa w opisie dzielnicy\n",
    "    data[i]=data[i].apply(lambda x: 1 if x == True else 0) #zamiana typu bool na int\n",
    "data = data[Cechy_poprzednie+Dzielnice+Pozytywny_opis]\n",
    "\n",
    "#preprocessing\n",
    "#skalowanie metoda niewrazliwa na wartosci odstajace\n",
    "r_scaler = preprocessing.RobustScaler().fit(data)\n",
    "data_r_scaled = r_scaler.transform(data)\n",
    "#normalizacja\n",
    "normalizer2=preprocessing.Normalizer().fit(data_r_scaled)\n",
    "dfr_normalized=normalizer2.transform(data_r_scaled)\n",
    "#podzial danych \n",
    "split_point = int(0.8 * len(dfr_normalized))\n",
    "df_train2 = dfr_normalized[:split_point]\n",
    "df_test2 = dfr_normalized[split_point:]\n",
    "#uczenie\n",
    "y_train2 = df_train2[:,0] #dane treningowe\n",
    "x_train2 = df_train2[:,1:]\n",
    "y_test2 = df_test2[:,0] #dane testowe\n",
    "x_test2 = df_test2[:,1:]\n",
    "model2 = LinearRegression() #definicja modelu\n",
    "model2.fit(x_train2, y_train2) #dopasowanie modelu do danych\n",
    "\n",
    "#predykcja wynikow na podstawie opracowanego modelu\n",
    "y_predicted2 = model2.predict(x_test2)\n",
    "print(y_predicted2[:10])\n",
    "#ewaluacja - blad sredniokwadratowy\n",
    "mse2 = mean_squared_error(y_predicted2, y_test2)\n",
    "print(\"Błąd średniokwadratowy wynosi \", mse2)\n",
    "print(\"Score: \",model2.score(x_test2,y_test2))"
   ]
  },
  {
   "cell_type": "code",
   "execution_count": null,
   "id": "35792412",
   "metadata": {},
   "outputs": [],
   "source": []
  }
 ],
 "metadata": {
  "kernelspec": {
   "display_name": "Python 3 (ipykernel)",
   "language": "python",
   "name": "python3"
  },
  "language_info": {
   "codemirror_mode": {
    "name": "ipython",
    "version": 3
   },
   "file_extension": ".py",
   "mimetype": "text/x-python",
   "name": "python",
   "nbconvert_exporter": "python",
   "pygments_lexer": "ipython3",
   "version": "3.9.7"
  }
 },
 "nbformat": 4,
 "nbformat_minor": 5
}
